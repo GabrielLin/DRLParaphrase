{
 "cells": [
  {
   "cell_type": "markdown",
   "metadata": {},
   "source": [
    "## Next Steps\n",
    "\n",
    "### Preprocessing\n",
    "\n",
    "1. Remove questions with absurd lengths\n",
    "2. Remove all questions with lengths bigger than 20\n",
    "3. Separate paraphrase and non-paraphrase pairs\n",
    "\n",
    "### RbM-SL\n",
    "1. To train evaluator:\n",
    "    - Fix train.py to take in the data we want - no need to read_corpus, we just need to have pairs of (sent1, sent2, label) --> where label is 0 or 1\n",
    "        - Embeddings: Use the ones from the paper, there should be a function to load them\n",
    "2. To pre-train generator()\n",
    "    - Fix batcher.py\n",
    "        - modify text_generator() to extract question 1 and question 2 from tf.Example file IFF they have a positive label\n",
    "        - modify fill_example_queue() --> Possibly just name change of (article, abstract)\n",
    "3. Try generating one sentence with initial generator\n",
    "4. Write the whole RL architecture:\n",
    "    - Find a good monte carlo simulator library for this task? \n",
    "    - Function to compute value \n",
    "    - Make function to rescale Q value\n",
    "    - Make function to update gradient\n",
    "    - __Question__ --> How to exactly update the generator given the learning rate and the gradient? \n",
    "    \n",
    "### RbM-iRL\n",
    "1. Steps 1-3 from RbM-SL\n",
    "2. Calculate gradient according to algorithm\n",
    "3. Write method to train evaluator "
   ]
  },
  {
   "cell_type": "code",
   "execution_count": null,
   "metadata": {},
   "outputs": [],
   "source": []
  }
 ],
 "metadata": {
  "kernelspec": {
   "display_name": "Python 3",
   "language": "python",
   "name": "python3"
  },
  "language_info": {
   "codemirror_mode": {
    "name": "ipython",
    "version": 3
   },
   "file_extension": ".py",
   "mimetype": "text/x-python",
   "name": "python",
   "nbconvert_exporter": "python",
   "pygments_lexer": "ipython3",
   "version": "3.7.3"
  }
 },
 "nbformat": 4,
 "nbformat_minor": 2
}
