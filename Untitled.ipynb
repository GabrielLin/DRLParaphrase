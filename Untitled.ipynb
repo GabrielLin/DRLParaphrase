{
 "cells": [
  {
   "cell_type": "code",
   "execution_count": 4,
   "metadata": {
    "collapsed": true
   },
   "outputs": [],
   "source": [
    "import numpy as np\n",
    "import matplotlib\n",
    "import matplotlib.pyplot as plt"
   ]
  },
  {
   "cell_type": "code",
   "execution_count": 5,
   "metadata": {
    "collapsed": false
   },
   "outputs": [
    {
     "name": "stdout",
     "output_type": "stream",
     "text": [
      "0.08064516129032258\n"
     ]
    }
   ],
   "source": [
    "alpha = 1.05\n",
    "beta = 1.05\n",
    "\n",
    "var = alpha * beta / ((alpha+beta)**2 * (alpha+beta+1))\n",
    "print(var)"
   ]
  },
  {
   "cell_type": "code",
   "execution_count": 6,
   "metadata": {
    "collapsed": true
   },
   "outputs": [],
   "source": [
    "scores1 = np.random.beta(alpha, beta, size=10)\n",
    "scores2 = np.random.beta(4, 18, size=10)\n",
    "scores3 = np.random.beta(18, 4, size=10)"
   ]
  },
  {
   "cell_type": "code",
   "execution_count": 7,
   "metadata": {
    "collapsed": false
   },
   "outputs": [
    {
     "data": {
      "text/plain": [
       "array([ 0.75097609,  0.64494637,  0.9425063 ,  0.92568551,  0.89682519,\n",
       "        0.85170067,  0.74118621,  0.80136494,  0.59080047,  0.97282557])"
      ]
     },
     "execution_count": 7,
     "metadata": {},
     "output_type": "execute_result"
    }
   ],
   "source": [
    "scores3"
   ]
  },
  {
   "cell_type": "code",
   "execution_count": 8,
   "metadata": {
    "collapsed": false
   },
   "outputs": [
    {
     "data": {
      "text/plain": [
       "array([[ 0.55838787,  0.15650247,  0.37233408,  0.50083793,  0.9751383 ,\n",
       "         0.86036356,  0.75647587,  0.15556928,  0.06448307,  0.17021227],\n",
       "       [ 0.20688157,  0.12470264,  0.25498444,  0.26040503,  0.23017674,\n",
       "         0.17633075,  0.12533366,  0.12871214,  0.0680877 ,  0.19460753],\n",
       "       [ 0.75097609,  0.64494637,  0.9425063 ,  0.92568551,  0.89682519,\n",
       "         0.85170067,  0.74118621,  0.80136494,  0.59080047,  0.97282557]])"
      ]
     },
     "execution_count": 8,
     "metadata": {},
     "output_type": "execute_result"
    }
   ],
   "source": [
    "np.stack([scores1, scores2, scores3])"
   ]
  },
  {
   "cell_type": "code",
   "execution_count": 12,
   "metadata": {
    "collapsed": false
   },
   "outputs": [
    {
     "data": {
      "image/png": "[encoded data removed]",
      "text/plain": [
       "<matplotlib.figure.Figure at 0x10f467ef0>"
      ]
     },
     "metadata": {},
     "output_type": "display_data"
    }
   ],
   "source": [
    "#vegetables = [\"cucumber\", \"tomato\", \"lettuce\", \"asparagus\",\n",
    "#              \"potato\", \"wheat\", \"barley\"]\n",
    "#farmers = [\"Farmer Joe\", \"Upland Bros.\", \"Smith Gardening\",\n",
    "#           \"Agrifun\", \"Organiculture\", \"BioGoods Ltd.\", \"Cornylee Corp.\"]\n",
    "\n",
    "\n",
    "\n",
    "\n",
    "harvest = np.stack([scores1, scores2, scores3])\n",
    "''',\n",
    "                    [0.6, 0.0, 0.3, 0.0, 3.1, 0.0, 0.0],\n",
    "                    [0.7, 1.7, 0.6, 2.6, 2.2, 6.2, 0.0],\n",
    "                    [1.3, 1.2, 0.0, 0.0, 0.0, 3.2, 5.1],\n",
    "                    [0.1, 2.0, 0.0, 1.4, 0.0, 1.9, 6.3]])\n",
    "'''\n",
    "\n",
    "#fig, ax = plt.subplots()\n",
    "#im = ax.imshow(harvest)\n",
    "#cbar = ax.figure.colorbar(im, ax=ax)\n",
    "plt.pcolor(harvest, cmap=plt.cm.seismic, vmin=-1, vmax=1)\n",
    "#cbar.ax.set_ylabel(cbarlabel, rotation=-90, va=\"bottom\")\n",
    "# We want to show all ticks...\n",
    "#ax.set_xticks(np.arange(len(farmers)))\n",
    "#ax.set_yticks(np.arange(len(vegetables)))\n",
    "# ... and label them with the respective list entries\n",
    "#ax.set_xticklabels(farmers)\n",
    "#ax.set_yticklabels(vegetables)\n",
    "\n",
    "# Rotate the tick labels and set their alignment.\n",
    "#plt.setp(ax.get_xticklabels(), rotation=45, ha=\"right\",\n",
    "#         rotation_mode=\"anchor\")\n",
    "\n",
    "# Loop over data dimensions and create text annotations.\n",
    "#for i in range(len(vegetables)):\n",
    "#    for j in range(len(farmers)):\n",
    "#        text = ax.text(j, i, harvest[i, j],\n",
    "#                       ha=\"center\", va=\"center\", color=\"w\")\n",
    "\n",
    "#ax.set_title(\"Harvest of local farmers (in tons/year)\")\n",
    "#fig.tight_layout()\n",
    "plt.show()"
   ]
  },
  {
   "cell_type": "code",
   "execution_count": 89,
   "metadata": {
    "collapsed": false
   },
   "outputs": [
    {
     "data": {
      "image/png": "[encoded data removed]",
      "text/plain": [
       "<matplotlib.figure.Figure at 0x10f6f7128>"
      ]
     },
     "metadata": {},
     "output_type": "display_data"
    }
   ],
   "source": [
    "plt.pcolor(harvest, cmap=plt.cm.seismic, vmin=-2, vmax=2)\n",
    "plt.colorbar()\n",
    "plt.show()"
   ]
  },
  {
   "cell_type": "code",
   "execution_count": 2,
   "metadata": {
    "collapsed": false
   },
   "outputs": [
    {
     "ename": "NameError",
     "evalue": "name 'fig' is not defined",
     "output_type": "error",
     "traceback": [
      "\u001b[0;31m---------------------------------------------------------------------------\u001b[0m",
      "\u001b[0;31mNameError\u001b[0m                                 Traceback (most recent call last)",
      "\u001b[0;32m<ipython-input-2-12af5bb9c7a3>\u001b[0m in \u001b[0;36m<module>\u001b[0;34m()\u001b[0m\n\u001b[0;32m----> 1\u001b[0;31m \u001b[0mcbar\u001b[0m \u001b[0;34m=\u001b[0m \u001b[0mfig\u001b[0m\u001b[0;34m.\u001b[0m\u001b[0mcolorbar\u001b[0m\u001b[0;34m(\u001b[0m\u001b[0max\u001b[0m\u001b[0;34m=\u001b[0m\u001b[0max\u001b[0m\u001b[0;34m,\u001b[0m \u001b[0mmappable\u001b[0m\u001b[0;34m=\u001b[0m\u001b[0mim\u001b[0m\u001b[0;34m,\u001b[0m \u001b[0morientation\u001b[0m\u001b[0;34m=\u001b[0m\u001b[0;34m'horizontal'\u001b[0m\u001b[0;34m)\u001b[0m\u001b[0;34m\u001b[0m\u001b[0m\n\u001b[0m",
      "\u001b[0;31mNameError\u001b[0m: name 'fig' is not defined"
     ]
    }
   ],
   "source": [
    "cbar = fig.colorbar(ax=ax, mappable=im, orientation='horizontal')"
   ]
  },
  {
   "cell_type": "code",
   "execution_count": 143,
   "metadata": {
    "collapsed": false
   },
   "outputs": [],
   "source": [
    "fig = plt.figure()\n",
    "ax = fig.add_subplot(111)\n",
    "im = ax.imshow(harvest, interpolation='nearest', cmap='summer')\n",
    "#im2 = ax.imshow(harvest, interpolation='nearest', cmap='Reds')"
   ]
  },
  {
   "cell_type": "code",
   "execution_count": 125,
   "metadata": {
    "collapsed": false
   },
   "outputs": [
    {
     "data": {
      "text/plain": [
       "array([[ 0.55838787,  0.15650247,  0.37233408,  0.50083793,  0.9751383 ,\n",
       "         0.86036356,  0.75647587,  0.15556928,  0.06448307,  0.17021227],\n",
       "       [ 0.20688157,  0.12470264,  0.25498444,  0.26040503,  0.23017674,\n",
       "         0.17633075,  0.12533366,  0.12871214,  0.0680877 ,  0.19460753],\n",
       "       [ 0.75097609,  0.64494637,  0.9425063 ,  0.92568551,  0.89682519,\n",
       "         0.85170067,  0.74118621,  0.80136494,  0.59080047,  0.97282557]])"
      ]
     },
     "execution_count": 125,
     "metadata": {},
     "output_type": "execute_result"
    }
   ],
   "source": [
    "harvest"
   ]
  },
  {
   "cell_type": "code",
   "execution_count": 144,
   "metadata": {
    "collapsed": false
   },
   "outputs": [
    {
     "data": {
      "image/png": "[encoded data removed]",
      "text/plain": [
       "<matplotlib.figure.Figure at 0x1129a61d0>"
      ]
     },
     "metadata": {},
     "output_type": "display_data"
    }
   ],
   "source": [
    "plt.xticks([])\n",
    "plt.yticks([])\n",
    "plt.show()\n",
    "plt.show()"
   ]
  },
  {
   "cell_type": "code",
   "execution_count": 21,
   "metadata": {
    "collapsed": false
   },
   "outputs": [
    {
     "ename": "AttributeError",
     "evalue": "'list' object has no attribute 'get_axis'",
     "output_type": "error",
     "traceback": [
      "\u001b[0;31m---------------------------------------------------------------------------\u001b[0m",
      "\u001b[0;31mAttributeError\u001b[0m                            Traceback (most recent call last)",
      "\u001b[0;32m<ipython-input-21-bde556a4e39c>\u001b[0m in \u001b[0;36m<module>\u001b[0;34m()\u001b[0m\n\u001b[0;32m----> 1\u001b[0;31m \u001b[0mfig\u001b[0m\u001b[0;34m.\u001b[0m\u001b[0maxes\u001b[0m\u001b[0;34m.\u001b[0m\u001b[0mget_axis\u001b[0m\u001b[0;34m(\u001b[0m\u001b[0;34m)\u001b[0m\u001b[0;34m.\u001b[0m\u001b[0mset_ticks\u001b[0m\u001b[0;34m(\u001b[0m\u001b[0;34m[\u001b[0m\u001b[0;34m]\u001b[0m\u001b[0;34m)\u001b[0m\u001b[0;34m\u001b[0m\u001b[0m\n\u001b[0m",
      "\u001b[0;31mAttributeError\u001b[0m: 'list' object has no attribute 'get_axis'"
     ]
    }
   ],
   "source": [
    "fig.axes.get_axis().set_ticks([])"
   ]
  },
  {
   "cell_type": "code",
   "execution_count": 30,
   "metadata": {
    "collapsed": true
   },
   "outputs": [],
   "source": [
    "def sigmoid(x):\n",
    "    return 1 / (1 + np.exp(-x))"
   ]
  },
  {
   "cell_type": "code",
   "execution_count": 32,
   "metadata": {
    "collapsed": false
   },
   "outputs": [],
   "source": [
    "import scipy"
   ]
  },
  {
   "cell_type": "code",
   "execution_count": 119,
   "metadata": {
    "collapsed": false
   },
   "outputs": [],
   "source": [
    "sent_rank = stats.rankdata(-sent_mean)\n",
    "sent_base = sigmoid(1.1 * (0.5-sent_rank/3)) - 0.5"
   ]
  },
  {
   "cell_type": "code",
   "execution_count": 35,
   "metadata": {
    "collapsed": true
   },
   "outputs": [],
   "source": [
    "from scipy import stats"
   ]
  },
  {
   "cell_type": "code",
   "execution_count": 43,
   "metadata": {
    "collapsed": false
   },
   "outputs": [
    {
     "data": {
      "text/plain": [
       "(3, 10)"
      ]
     },
     "execution_count": 43,
     "metadata": {},
     "output_type": "execute_result"
    }
   ],
   "source": [
    "harvest.shape"
   ]
  },
  {
   "cell_type": "code",
   "execution_count": 114,
   "metadata": {
    "collapsed": false
   },
   "outputs": [
    {
     "data": {
      "text/plain": [
       "array([[  4.,   8.,   6.,   5.,   1.,   2.,   3.,   9.,  10.,   7.],\n",
       "       [  4.,   9.,   2.,   1.,   3.,   6.,   8.,   7.,  10.,   5.],\n",
       "       [  7.,   9.,   2.,   3.,   4.,   5.,   8.,   6.,  10.,   1.]])"
      ]
     },
     "execution_count": 114,
     "metadata": {},
     "output_type": "execute_result"
    }
   ],
   "source": [
    "tok_rank = np.array([stats.rankdata(-x) for x in harvest])\n",
    "tok_rank"
   ]
  },
  {
   "cell_type": "code",
   "execution_count": 120,
   "metadata": {
    "collapsed": false
   },
   "outputs": [],
   "source": [
    "\n",
    "tok_res = sigmoid(1.1*(0.5-tok_rank/(10+1))) -0.5 + sent_base.reshape(3, 1)"
   ]
  },
  {
   "cell_type": "code",
   "execution_count": 121,
   "metadata": {
    "collapsed": false
   },
   "outputs": [
    {
     "data": {
      "text/plain": [
       "array([[-0.00827554, -0.10788189, -0.05820278, -0.03320799,  0.06493385,\n",
       "         0.04091219,  0.01647111, -0.13232297, -0.15634462, -0.08313523],\n",
       "       [-0.09670575, -0.22075317, -0.04751801, -0.02349636, -0.07195909,\n",
       "        -0.14663299, -0.19631209, -0.17156544, -0.24477482, -0.12163819],\n",
       "       [ 0.00827554, -0.04091219,  0.13232297,  0.10788189,  0.08313523,\n",
       "         0.05820278, -0.01647111,  0.03320799, -0.06493385,  0.15634462]])"
      ]
     },
     "execution_count": 121,
     "metadata": {},
     "output_type": "execute_result"
    }
   ],
   "source": [
    "tok_res"
   ]
  },
  {
   "cell_type": "code",
   "execution_count": null,
   "metadata": {
    "collapsed": true
   },
   "outputs": [],
   "source": [
    "def rankdata()"
   ]
  }
 ],
 "metadata": {
  "kernelspec": {
   "display_name": "Python 3",
   "language": "python",
   "name": "python3"
  },
  "language_info": {
   "codemirror_mode": {
    "name": "ipython",
    "version": 3
   },
   "file_extension": ".py",
   "mimetype": "text/x-python",
   "name": "python",
   "nbconvert_exporter": "python",
   "pygments_lexer": "ipython3",
   "version": "3.5.2"
  }
 },
 "nbformat": 4,
 "nbformat_minor": 0
}
